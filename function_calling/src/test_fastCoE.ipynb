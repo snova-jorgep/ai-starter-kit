{
 "cells": [
  {
   "cell_type": "code",
   "execution_count": 1,
   "metadata": {},
   "outputs": [],
   "source": [
    "import os\n",
    "import sys\n",
    "import json\n",
    "from dotenv import load_dotenv\n",
    "from fastCoE import SambaStudioFastCoE\n",
    "from langchain_core.prompts import PromptTemplate"
   ]
  },
  {
   "cell_type": "code",
   "execution_count": 2,
   "metadata": {},
   "outputs": [
    {
     "data": {
      "text/plain": [
       "True"
      ]
     },
     "execution_count": 2,
     "metadata": {},
     "output_type": "execute_result"
    }
   ],
   "source": [
    "current_dir = os.getcwd()\n",
    "kit_dir = os.path.abspath(os.path.join(current_dir, '..'))\n",
    "repo_dir = os.path.abspath(os.path.join(kit_dir, '..'))\n",
    "\n",
    "sys.path.append(kit_dir)\n",
    "sys.path.append(repo_dir)\n",
    "\n",
    "load_dotenv(os.path.join(repo_dir, '.env'))"
   ]
  },
  {
   "cell_type": "code",
   "execution_count": 3,
   "metadata": {},
   "outputs": [],
   "source": [
    "llm = SambaStudioFastCoE()"
   ]
  },
  {
   "cell_type": "code",
   "execution_count": 4,
   "metadata": {},
   "outputs": [
    {
     "data": {
      "text/plain": [
       "\"Hello! It's great to meet you! I'm here to assist you with any questions or topics you'd like to discuss. I'm a helpful assistant developed by SambaNova Systems, and I'm committed to providing you with accurate and respectful information. What's on your mind today?\""
      ]
     },
     "execution_count": 4,
     "metadata": {},
     "output_type": "execute_result"
    }
   ],
   "source": [
    "llm.invoke(json.dumps([{'role': 'user', 'content': 'hello'}]))"
   ]
  },
  {
   "cell_type": "code",
   "execution_count": 8,
   "metadata": {},
   "outputs": [
    {
     "data": {
      "text/plain": [
       "\"Hello! It's great to meet you! I'm here to assist you with any questions or topics you'd like to discuss. I'm a helpful assistant developed by SambaNova Systems, and I'm committed to providing you with accurate and respectful information. What's on your mind today?\""
      ]
     },
     "execution_count": 8,
     "metadata": {},
     "output_type": "execute_result"
    }
   ],
   "source": [
    "llm.invoke('hello')"
   ]
  },
  {
   "cell_type": "code",
   "execution_count": 7,
   "metadata": {},
   "outputs": [
    {
     "name": "stdout",
     "output_type": "stream",
     "text": [
      "\n",
      "I'd be delighted to spin a yarn for you! Here's a tale that'll take us on \n",
      "a journey across the globe, through time, and into the hearts of those who lived through \n",
      "it.\n",
      "\n",
      "Once upon a time, in the early 19th century, there was a small village nestled in \n",
      "the rolling hills of rural France. The villagers lived simple lives, working the land, tending to \n",
      "their animals, and trading goods with neighboring towns. Among them was a young girl named Sophie, with \n",
      "hair as golden as the sun and eyes as blue as the sky.\n",
      "\n",
      "Sophie was a curious and \n",
      "adventurous soul, always eager to explore the world beyond her village. She spent her days helping her mother \n",
      "with the household chores, learning the secrets of traditional French cooking, and listening to the stories of the \n",
      "village elder, Monsieur LeFleur.\n",
      "\n",
      "One day, a group of travelers passed through the \n",
      "village, seeking refuge from the turmoil of the Napoleonic Wars. Among them was a young man named \n",
      "Alexandre, a skilled musician with a voice as smooth as honey and a heart full of kindness. Sophie \n",
      "was immediately smitten, and the two began to spend hours together, exploring the countryside and sharing stories \n",
      "of their dreams and aspirations.\n",
      "\n",
      "As the years passed, Sophie and Alexandre's love blossomed, and \n",
      "they decided to leave the village to make a new life in the city. They settled in Paris, \n",
      "where Sophie's culinary skills earned her a reputation as one of the city's top chefs, and \n",
      "Alexandre's music brought joy to the hearts of all who heard him.\n",
      "\n",
      "But fate had other plans. \n",
      "Napoleon's armies returned, and the city was plunged into chaos. Sophie and Alexandre found themselves caught in the \n",
      "midst of the conflict, struggling to survive as the city burned around them.\n",
      "\n",
      "In the midst of the \n",
      "chaos, Sophie discovered a hidden talent – she could heal the wounded with her cooking. Her dishes, \n",
      "infused with love and kindness, brought solace to the suffering, and soon, people from all walks \n",
      "of life were flocking to her kitchen, seeking comfort and hope.\n",
      "\n",
      "As the war finally came to \n",
      "an end, Sophie and Alexandre decided to leave Paris and start anew in the United States. They settled \n",
      "in New Orleans, where Sophie's culinary skills earned her a reputation as one of the city's top \n",
      "chefs, and Alexandre's music brought joy to the hearts of all who heard him.\n",
      "\n",
      "Years passed, \n",
      "and Sophie and Alexandre built a life filled with love, laughter, and music. They had children, \n",
      "grandchildren, and great-grandchildren, each one carrying on the traditions and stories of their ancestors.\n",
      "\n",
      "But \n",
      "Sophie's greatest legacy was yet to come. As she grew older, she began to share her \n",
      "stories, her recipes, and her love with the world. She wrote cookbooks, taught cooking classes, \n",
      "and even opened a small restaurant in the heart of the city.\n",
      "\n",
      "And so, Sophie's story became \n",
      "a part of the fabric of the city, a reminder of the power of love, kindness, and \n",
      "resilience. Her legacy lived on, inspiring generations to come, and reminding us all that even in the \n",
      "darkest of times, there is always hope, always love, and always a chance to start \n",
      "anew.\n",
      "\n",
      "I hope you enjoyed this long story! It's a tale of love, adventure, and the power \n",
      "of the human \n",
      "spirit.\n",
      "\n"
     ]
    }
   ],
   "source": [
    "for i in llm.stream('hello tell me a long story'):\n",
    "    print(i)"
   ]
  },
  {
   "cell_type": "code",
   "execution_count": null,
   "metadata": {},
   "outputs": [],
   "source": []
  }
 ],
 "metadata": {
  "kernelspec": {
   "display_name": "fcenv",
   "language": "python",
   "name": "python3"
  },
  "language_info": {
   "codemirror_mode": {
    "name": "ipython",
    "version": 3
   },
   "file_extension": ".py",
   "mimetype": "text/x-python",
   "name": "python",
   "nbconvert_exporter": "python",
   "pygments_lexer": "ipython3",
   "version": "3.10.11"
  }
 },
 "nbformat": 4,
 "nbformat_minor": 2
}
