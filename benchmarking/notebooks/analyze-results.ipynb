{
 "cells": [
  {
   "cell_type": "markdown",
   "id": "56950450",
   "metadata": {},
   "source": [
    "# Analyze responses\n",
    "The following is an example of the analysis that can be done on individual responses that are saved when running `token_benchmark_ray.py` with the flag `--results-dir` which enables the saving of all responses."
   ]
  },
  {
   "cell_type": "code",
   "execution_count": null,
   "id": "dacfe98a-e81b-4089-9506-97a652993b5b",
   "metadata": {
    "tags": []
   },
   "outputs": [],
   "source": [
    "import pandas as pd\n",
    "import seaborn as sns\n",
    "import matplotlib.pyplot as plt\n",
    "from datetime import timedelta\n",
    "from typing import List"
   ]
  },
  {
   "cell_type": "markdown",
   "id": "e5fd0e93",
   "metadata": {},
   "source": [
    "## Read the input json file"
   ]
  },
  {
   "cell_type": "code",
   "execution_count": null,
   "id": "17f7abe9-ed9e-466c-b034-577489aaf98b",
   "metadata": {
    "tags": []
   },
   "outputs": [],
   "source": [
    "# path to the individual responses json file\n",
    "df_user = pd.read_json(f'../data/results/llmperf/COE-Meta-Llama-3-8B-Instruct_1000_1000_32_stream_individual_responses.json')\n",
    "df_user = df_user[(df_user[\"error_code\"] != \"\")]"
   ]
  },
  {
   "cell_type": "code",
   "execution_count": null,
   "id": "bdb61de7",
   "metadata": {},
   "outputs": [],
   "source": [
    "# for non-batching endpoints, batch_size_used will be 1\n",
    "if df_user[\"batch_size_used\"].isnull().all():\n",
    "    df_user[\"batch_size_used\"] = 1"
   ]
  },
  {
   "cell_type": "markdown",
   "id": "d5328791",
   "metadata": {},
   "source": [
    "## Server vs client metrics\n",
    "Following charts show a comparison between server-side and client-side metrics across different performance metrics"
   ]
  },
  {
   "cell_type": "code",
   "execution_count": null,
   "id": "2707495e",
   "metadata": {},
   "outputs": [],
   "source": [
    "def plot_client_vs_server_barplots(df_user: pd.DataFrame, x_col: str, y_cols: List[str], title: str, ylabel: str) -> None:\n",
    "    \"\"\"\n",
    "    Plots bar plots for client vs server metrics from a DataFrame.\n",
    "\n",
    "    Args:\n",
    "        df_user (pd.DataFrame): The DataFrame containing the data to plot.\n",
    "        x_col (str): The column name to be used as the x-axis.\n",
    "        y_cols (List[str]): A list of column names to be used as the y-axis.\n",
    "        title (str): The title of the plot.\n",
    "        ylabel (str): The label for the y-axis.\n",
    "\n",
    "    Returns:\n",
    "        None\n",
    "    \"\"\"    \n",
    "    # Melt the DataFrame to have a long-form DataFrame suitable for Seaborn\n",
    "    df_melted = df_user.melt(id_vars=[x_col], value_vars=y_cols, \n",
    "                             var_name='Metric', value_name='Value')\n",
    "\n",
    "    # Create the plot\n",
    "    _, ax = plt.subplots(figsize=(10, 6))\n",
    "    sns.barplot(data=df_melted, x=x_col, y='Value', hue='Metric', ax=ax)\n",
    "\n",
    "    # Customize the plot\n",
    "    plt.title(title)\n",
    "    plt.xlabel('Batch Size Used')\n",
    "    plt.ylabel(ylabel)\n",
    "\n",
    "    # Show the plot\n",
    "    plt.legend(title='Metric')\n",
    "    plt.show()"
   ]
  },
  {
   "cell_type": "code",
   "execution_count": null,
   "id": "26a7027c",
   "metadata": {},
   "outputs": [],
   "source": [
    "plot_client_vs_server_barplots(df_user, 'batch_size_used', \n",
    "                               ['server_output_token_per_s_per_request', 'client_output_token_per_s_per_request'], \n",
    "                               'Boxplots for Server token/s and Client token/s per request',\n",
    "                               'tokens/s')"
   ]
  },
  {
   "cell_type": "code",
   "execution_count": null,
   "id": "4b94f7c9",
   "metadata": {},
   "outputs": [],
   "source": [
    "plot_client_vs_server_barplots(df_user, \n",
    "                               'batch_size_used', \n",
    "                               ['server_ttft_s', 'client_ttft_s'], \n",
    "                               'Boxplots for Server TTFT and Client TTFT per request',\n",
    "                               'seconds')"
   ]
  },
  {
   "cell_type": "code",
   "execution_count": null,
   "id": "2e10c609",
   "metadata": {},
   "outputs": [],
   "source": [
    "plot_client_vs_server_barplots(df_user, \n",
    "                               'batch_size_used', \n",
    "                               ['server_end_to_end_latency_s', 'client_end_to_end_latency_s'], \n",
    "                               'Boxplots for Server latency and Client latency',\n",
    "                               'seconds')"
   ]
  },
  {
   "cell_type": "markdown",
   "id": "fa8f1208",
   "metadata": {},
   "source": [
    "## Create a summary dataframe\n",
    "Group results by batch and get sum of number of tokens, mean throughput, mean TTFT, and batch frequency. Finally, calculate the total number of output tokens per batch "
   ]
  },
  {
   "cell_type": "code",
   "execution_count": null,
   "id": "9b1c0a92",
   "metadata": {},
   "outputs": [],
   "source": [
    "df_summary_thorughput = df_user.groupby('batch_size_used')['server_output_token_per_s_per_request'].mean().reset_index()\n",
    "df_summary_output_tokens = df_user.groupby('batch_size_used')['server_number_output_tokens'].sum().reset_index()\n",
    "df_summary_ttft = df_user.groupby('batch_size_used')['server_ttft_s'].mean().reset_index()\n",
    "df_summary_count = df_user.groupby('batch_size_used').size().reset_index(name='Counts')\n",
    "\n",
    "\n",
    "df_summary = pd.merge(df_summary_thorughput, df_summary_output_tokens, on='batch_size_used', how='inner')\n",
    "df_summary = pd.merge(df_summary, df_summary_ttft, on='batch_size_used', how='inner')\n",
    "df_summary = pd.merge(df_summary, df_summary_count, on='batch_size_used', how='inner')\n",
    "df_summary['server_combined_output_tokens_per_s'] = df_summary['server_output_token_per_s_per_request']*df_summary['batch_size_used']"
   ]
  },
  {
   "cell_type": "code",
   "execution_count": null,
   "id": "de3cef52",
   "metadata": {},
   "outputs": [],
   "source": [
    "# show metrics \n",
    "\n",
    "fig, ax = plt.subplots(ncols=1,nrows=5, figsize=(10,15))\n",
    "\n",
    "sns.barplot(df_summary, x=\"batch_size_used\", y=\"Counts\",ax=ax[0]).set(title=\"Total number of requests per batch size\")\n",
    "sns.barplot(df_summary, x=\"batch_size_used\", y=\"server_output_token_per_s_per_request\",ax=ax[1]).set(title=\"Mean Throughput per request and batch size\")\n",
    "sns.barplot(df_summary, x=\"batch_size_used\", y=\"server_combined_output_tokens_per_s\",ax=ax[2]).set(title=\"Total Throughput per batch size\")\n",
    "sns.barplot(df_summary, x=\"batch_size_used\", y=\"server_number_output_tokens\",ax=ax[3]).set(title=\"Total number of output tokens per batch size\")\n",
    "sns.barplot(df_summary, x=\"batch_size_used\", y=\"server_ttft_s\",ax=ax[4]).set(title=\"Mean TTFT per batch size\")\n",
    "plt.tight_layout();"
   ]
  },
  {
   "cell_type": "markdown",
   "id": "dfb81a80",
   "metadata": {},
   "source": [
    "## Time taken\n",
    "- Compute the time that calls are cumulatively waiting for time-to-first-token vs time to generate tokens"
   ]
  },
  {
   "cell_type": "code",
   "execution_count": null,
   "id": "525f5776",
   "metadata": {},
   "outputs": [],
   "source": [
    "total_wait_time_ttft = (df_summary['Counts']/df_summary['batch_size_used']*df_summary['server_ttft_s']).sum()\n",
    "total_generation_time = (df_summary['server_number_output_tokens']/df_summary['server_output_token_per_s_per_request']).sum()\n",
    "print(f'Total wait time due to ttft (mins) = {total_wait_time_ttft/60:,.4f}')\n",
    "print(f'Total generation time due (mins) = {total_generation_time/60:,.4f}')\n",
    "print(f'Total time = {(total_wait_time_ttft + total_generation_time)/60:,.4f}')"
   ]
  },
  {
   "cell_type": "markdown",
   "id": "84e7a38e",
   "metadata": {},
   "source": [
    "## Requests Gantt Chart\n",
    "- Blue line is the total time to get back response\n",
    "- Red line is the time call is waiting to be executed"
   ]
  },
  {
   "cell_type": "code",
   "execution_count": null,
   "id": "a49eeedd",
   "metadata": {},
   "outputs": [],
   "source": [
    "fig,ax = plt.subplots(figsize=(12,6))\n",
    "\n",
    "for i, row in df_user.iterrows():\n",
    "    # time that request took to finish\n",
    "    ax.hlines(y=i, xmin=row[\"start_time\"], xmax=row[\"end_time\"], color='blue', linewidth=2)\n",
    "    # ttft per request\n",
    "    ax.hlines(y=i+0.25, xmin=row[\"start_time\"], xmax=row[\"start_time\"]+timedelta(seconds=row[\"client_ttft_s\"]), color='red', linewidth=2)\n",
    "\n",
    "    if i> 100:\n",
    "        break\n",
    "\n",
    "# Format the x-axis to show the date and time\n",
    "plt.xticks(rotation=45)\n",
    "plt.xlabel(\"Time\")\n",
    "plt.ylabel(\"LLM Call Index\")\n",
    "plt.title(\"LLM Calls Over Time\");"
   ]
  },
  {
   "cell_type": "code",
   "execution_count": null,
   "id": "d618224a",
   "metadata": {},
   "outputs": [],
   "source": []
  }
 ],
 "metadata": {
  "kernelspec": {
   "display_name": "benchmark_env",
   "language": "python",
   "name": "python3"
  },
  "language_info": {
   "codemirror_mode": {
    "name": "ipython",
    "version": 3
   },
   "file_extension": ".py",
   "mimetype": "text/x-python",
   "name": "python",
   "nbconvert_exporter": "python",
   "pygments_lexer": "ipython3",
   "version": "3.10.14"
  }
 },
 "nbformat": 4,
 "nbformat_minor": 5
}
